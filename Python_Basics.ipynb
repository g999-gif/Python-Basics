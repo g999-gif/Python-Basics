{
  "nbformat": 4,
  "nbformat_minor": 0,
  "metadata": {
    "colab": {
      "provenance": []
    },
    "kernelspec": {
      "name": "python3",
      "display_name": "Python 3"
    },
    "language_info": {
      "name": "python"
    }
  },
  "cells": [
    {
      "cell_type": "markdown",
      "source": [
        "# Python Basics Module 2\n",
        "\n",
        "1) What is Python, and why is it popular?\n",
        "   - Python is a simple, versatile programming language used for web development, data science, and automation. Its popular because its easy to learn, has powerful libraries, and a large community.\n",
        "\n",
        "2) What is an interpreter in Python?\n",
        "   - An interpreter is a tool that reads and executes Python code line-by-line.\n",
        "\n",
        "3) What are pre-defined keywords in Python?\n",
        "  - These are reserved words in Python that have a specific meaning, like if, else, while, etc.\n",
        "\n",
        "4) Can keywords be used as variable names?\n",
        "   - No, because keywords are reserved for specific tasks in Python.\n",
        "\n",
        "5) What is mutability in Python?\n",
        "   - Mutability determines if an object can be changed after its created. Lists are mutable, but strings and tuples are immutable.\n",
        "\n",
        "6) Why are lists mutable, but tuples are immutable?\n",
        "   - Lists allow changes (like adding/removing elements) to handle dynamic data. Tuples are immutable for consistency and performance.\n",
        "\n",
        "7) What is the difference between “==” and “is” operators in Python?\n",
        "   - == checks if values are the same, while is checks if objects are the same in memory.\n",
        "\n",
        "8) What are logical operators in Python?\n",
        "  - They are used to combine conditions: and, or, and not.\n",
        "\n",
        "9) What is type casting in Python?\n",
        "  - Converting one data type to another, like turning a string into a number.\n",
        "\n",
        "10) What is the difference between implicit and explicit type casting?\n",
        "   - Implicit is automatic (e.g., int to float), while explicit is done manually (e.g., int(\"10\")).\n",
        "\n",
        "11) What is the purpose of conditional statements in Python?\n",
        "   - They allow decisions in code, like executing different actions based on conditions.\n",
        "\n",
        "12) How does the elif statement work?\n",
        "   - It checks multiple conditions after an if and executes the first true one.\n",
        "\n",
        "13) What is the difference between for and while loops?\n",
        "   - for is for iterating over sequences, while while runs as long as a condition is true.\n",
        "\n",
        "14) Describe a scenario where a while loop is more suitable than a for loop.\n",
        "   - When the number of iterations isn't known in advance, like waiting for user input."
      ],
      "metadata": {
        "id": "yFZgV_nXKJBI"
      }
    },
    {
      "cell_type": "code",
      "execution_count": 1,
      "metadata": {
        "colab": {
          "base_uri": "https://localhost:8080/"
        },
        "id": "MGDJYxD_HbWt",
        "outputId": "f91a3dcc-655b-4fe0-cd63-119c138169fd"
      },
      "outputs": [
        {
          "output_type": "stream",
          "name": "stdout",
          "text": [
            "Hello, World!\n"
          ]
        }
      ],
      "source": [
        "# 1) Write a Python program to print \"Hello, World!\"\n",
        "\n",
        "print(\"Hello, World!\")"
      ]
    },
    {
      "cell_type": "code",
      "source": [
        "# 2) Write a Python program that displays your name and age.\n",
        "\n",
        "name = \"John\"\n",
        "age = 25\n",
        "print(f\"My name is {name} and I am {age} years old.\")"
      ],
      "metadata": {
        "colab": {
          "base_uri": "https://localhost:8080/"
        },
        "id": "F_lUfS0RM3ex",
        "outputId": "260ce92d-a342-4cc3-b8f5-78697e5e454c"
      },
      "execution_count": 2,
      "outputs": [
        {
          "output_type": "stream",
          "name": "stdout",
          "text": [
            "My name is John and I am 25 years old.\n"
          ]
        }
      ]
    },
    {
      "cell_type": "code",
      "source": [
        "# 3) Write code to print all the pre-defined keywords in Python using the keyword library.\n",
        "\n",
        "import keyword\n",
        "print(keyword.kwlist)"
      ],
      "metadata": {
        "colab": {
          "base_uri": "https://localhost:8080/"
        },
        "id": "2mb3DtOkNLWY",
        "outputId": "6ebac007-a9d7-4545-9196-3c302090f010"
      },
      "execution_count": 3,
      "outputs": [
        {
          "output_type": "stream",
          "name": "stdout",
          "text": [
            "['False', 'None', 'True', 'and', 'as', 'assert', 'async', 'await', 'break', 'class', 'continue', 'def', 'del', 'elif', 'else', 'except', 'finally', 'for', 'from', 'global', 'if', 'import', 'in', 'is', 'lambda', 'nonlocal', 'not', 'or', 'pass', 'raise', 'return', 'try', 'while', 'with', 'yield']\n"
          ]
        }
      ]
    },
    {
      "cell_type": "code",
      "source": [
        "# 4) Write a program that checks if a given word is a Python keyword.\n",
        "\n",
        "import keyword\n",
        "word = input(\"Enter a word: \")\n",
        "print(f\"{word} is a keyword: {keyword.iskeyword(word)}\")"
      ],
      "metadata": {
        "id": "YPDLgwsXNLIV"
      },
      "execution_count": null,
      "outputs": []
    },
    {
      "cell_type": "code",
      "source": [
        "# 5)Create a list and tuple in Python, and demonstrate how attempting to change an element works differently for each.\n",
        "\n",
        "my_list = [1, 2, 3]\n",
        "my_tuple = (1, 2, 3)\n",
        "my_list[0] = 10  # Works\n",
        "my_tuple[0] = 10  # Error: Tuples are immutable"
      ],
      "metadata": {
        "colab": {
          "base_uri": "https://localhost:8080/",
          "height": 176
        },
        "id": "3RM5zxAVNK7z",
        "outputId": "7675ab11-21ba-453c-ee29-4fdf8ca95bad"
      },
      "execution_count": 5,
      "outputs": [
        {
          "output_type": "error",
          "ename": "TypeError",
          "evalue": "'tuple' object does not support item assignment",
          "traceback": [
            "\u001b[0;31m---------------------------------------------------------------------------\u001b[0m",
            "\u001b[0;31mTypeError\u001b[0m                                 Traceback (most recent call last)",
            "\u001b[0;32m<ipython-input-5-df9e2cdf5833>\u001b[0m in \u001b[0;36m<cell line: 6>\u001b[0;34m()\u001b[0m\n\u001b[1;32m      4\u001b[0m \u001b[0mmy_tuple\u001b[0m \u001b[0;34m=\u001b[0m \u001b[0;34m(\u001b[0m\u001b[0;36m1\u001b[0m\u001b[0;34m,\u001b[0m \u001b[0;36m2\u001b[0m\u001b[0;34m,\u001b[0m \u001b[0;36m3\u001b[0m\u001b[0;34m)\u001b[0m\u001b[0;34m\u001b[0m\u001b[0;34m\u001b[0m\u001b[0m\n\u001b[1;32m      5\u001b[0m \u001b[0mmy_list\u001b[0m\u001b[0;34m[\u001b[0m\u001b[0;36m0\u001b[0m\u001b[0;34m]\u001b[0m \u001b[0;34m=\u001b[0m \u001b[0;36m10\u001b[0m  \u001b[0;31m# Works\u001b[0m\u001b[0;34m\u001b[0m\u001b[0;34m\u001b[0m\u001b[0m\n\u001b[0;32m----> 6\u001b[0;31m \u001b[0mmy_tuple\u001b[0m\u001b[0;34m[\u001b[0m\u001b[0;36m0\u001b[0m\u001b[0;34m]\u001b[0m \u001b[0;34m=\u001b[0m \u001b[0;36m10\u001b[0m  \u001b[0;31m# Error: Tuples are immutable\u001b[0m\u001b[0;34m\u001b[0m\u001b[0;34m\u001b[0m\u001b[0m\n\u001b[0m",
            "\u001b[0;31mTypeError\u001b[0m: 'tuple' object does not support item assignment"
          ]
        }
      ]
    },
    {
      "cell_type": "code",
      "source": [
        "# 6)Write a function to demonstrate the behavior of mutable and immutable arguments.\n",
        "\n",
        "def demo(arg):\n",
        "    if isinstance(arg, list):\n",
        "        arg.append(100)  # Modifies the original list\n",
        "    else:\n",
        "        arg = 100  # Creates a new value for immutables like int\n",
        "\n",
        "my_list = [1, 2, 3]\n",
        "demo(my_list)\n",
        "print(my_list)  # [1, 2, 3, 100]\n",
        "\n",
        "my_int = 5\n",
        "demo(my_int)\n",
        "print(my_int)  # Still 5"
      ],
      "metadata": {
        "id": "6p3VZsnkNKuj"
      },
      "execution_count": null,
      "outputs": []
    },
    {
      "cell_type": "code",
      "source": [
        "# 8)Write a program to demonstrate the use of logical operators.\n",
        "\n",
        "\n",
        "x = 5\n",
        "print(x > 3 and x < 10)  # True\n",
        "print(x < 3 or x > 10)   # False\n",
        "print(not(x > 3))        # False"
      ],
      "metadata": {
        "id": "usv5KdLhNKhg"
      },
      "execution_count": null,
      "outputs": []
    },
    {
      "cell_type": "code",
      "source": [
        "# 9) Write a Python program to convert user input from string to integer, float, and boolean types.\n",
        "\n",
        "user_input = input(\"Enter a value: \")\n",
        "print(int(user_input))\n",
        "print(float(user_input))\n",
        "print(bool(user_input))"
      ],
      "metadata": {
        "id": "1XgUnAyxNKVC"
      },
      "execution_count": null,
      "outputs": []
    },
    {
      "cell_type": "code",
      "source": [
        "# 10) Write code to demonstrate type casting with list elements.\n",
        "\n",
        "str_list = [\"1\", \"2\", \"3\"]\n",
        "int_list = list(map(int, str_list))\n",
        "print(int_list)"
      ],
      "metadata": {
        "id": "hyevuHHlNKHM"
      },
      "execution_count": null,
      "outputs": []
    },
    {
      "cell_type": "code",
      "source": [
        "# 11) Write a program that checks if a number is positive, negative, or zero.\n",
        "\n",
        "num = int(input(\"Enter a number: \"))\n",
        "if num > 0:\n",
        "    print(\"Positive\")\n",
        "elif num < 0:\n",
        "    print(\"Negative\")\n",
        "else:\n",
        "    print(\"Zero\")"
      ],
      "metadata": {
        "id": "6lB-TnSwNJ42"
      },
      "execution_count": null,
      "outputs": []
    },
    {
      "cell_type": "code",
      "source": [
        "# 12) Write a for loop to print numbers from 1 to 10.\n",
        "\n",
        "for i in range(1, 11):\n",
        "    print(i)"
      ],
      "metadata": {
        "id": "1ty-TOvNNJqk"
      },
      "execution_count": null,
      "outputs": []
    },
    {
      "cell_type": "code",
      "source": [
        "# 13) Write a Python program to find the sum of all even numbers between 1 and 50.\n",
        "\n",
        "print(sum(i for i in range(1, 51) if i % 2 == 0))"
      ],
      "metadata": {
        "id": "31hC3fuINJeV"
      },
      "execution_count": null,
      "outputs": []
    },
    {
      "cell_type": "code",
      "source": [
        "# 14) Write a program to reverse a string using a while loop.\n",
        "\n",
        "s = \"Python\"\n",
        "reversed_s = \"\"\n",
        "i = len(s) - 1\n",
        "while i >= 0:\n",
        "    reversed_s += s[i]\n",
        "    i -= 1\n",
        "print(reversed_s)"
      ],
      "metadata": {
        "id": "QrNViSfLNJPQ"
      },
      "execution_count": null,
      "outputs": []
    },
    {
      "cell_type": "code",
      "source": [
        "# 15) Write a Python program to calculate the factorial of a number provided by the user using a while loop.\n",
        "\n",
        "num = int(input(\"Enter a number: \"))\n",
        "factorial = 1\n",
        "while num > 0:\n",
        "    factorial *= num\n",
        "    num -= 1\n",
        "print(factorial)"
      ],
      "metadata": {
        "colab": {
          "base_uri": "https://localhost:8080/"
        },
        "id": "sQXU9PyJNIyU",
        "outputId": "22d4702d-eda3-437c-84a3-b01dee82e488"
      },
      "execution_count": 6,
      "outputs": [
        {
          "output_type": "stream",
          "name": "stdout",
          "text": [
            "Enter a number: 3\n",
            "6\n"
          ]
        }
      ]
    },
    {
      "cell_type": "code",
      "source": [
        "# 29)"
      ],
      "metadata": {
        "id": "baYfNNWzNIXw"
      },
      "execution_count": null,
      "outputs": []
    }
  ]
}